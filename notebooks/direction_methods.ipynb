{
 "cells": [
  {
   "cell_type": "code",
   "execution_count": null,
   "metadata": {},
   "outputs": [],
   "source": [
    "# ================= RepE Variables =================\n",
    "rep_token = -1 # token to use for rep-reading (default is -1, which means the last token)\n",
    "hidden_layers = list(range(-1, -model.config.num_hidden_layers, -1)) # list of hidden layers to use for rep-reading taken directly from the model config\n",
    "n_difference = 1\n",
    "direction_method = 'pca' # This the method used to calculate the direction vector\n",
    "rep_reading_pipeline = pipeline(\"rep-reading\", model=model, tokenizer=tokenizer)\n",
    "\n",
    "\n",
    "system_tag = \"<|start_header_id|>system<|end_header_id|>\\n\\n\"\n",
    "user_tag =  \"<|eot_id|><|start_header_id|>user<|end_header_id|>\\n\\n\"\n",
    "assistant_tag =  \"<|eot_id|><|start_header_id|>assistant<|end_header_id|>\\n\\n\"\n",
    "\n",
    "\n",
    "#dataset1 = sandbagging_function_dataset(data_path1, tokenizer, system_tag, system_instructions, user_tag, assistant_tag)\n",
    "dataset2= bluffing_function_dataset(data_path2, tokenizer, system_tag, system_instructions, user_tag, assistant_tag)"
   ]
  }
 ],
 "metadata": {
  "kernelspec": {
   "display_name": "lab",
   "language": "python",
   "name": "python3"
  },
  "language_info": {
   "name": "python",
   "version": "3.9.19"
  }
 },
 "nbformat": 4,
 "nbformat_minor": 2
}
